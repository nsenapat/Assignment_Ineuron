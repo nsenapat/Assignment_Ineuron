{
 "cells": [
  {
   "cell_type": "markdown",
   "metadata": {},
   "source": [
    "### OOP Assignement"
   ]
  },
  {
   "cell_type": "code",
   "execution_count": 39,
   "metadata": {},
   "outputs": [
    {
     "name": "stdout",
     "output_type": "stream",
     "text": [
      "name from B\n"
     ]
    }
   ],
   "source": [
    "class A:\n",
    "    def test(self):\n",
    "        print(\"name from A\")\n",
    "class B:\n",
    "    def test(self):\n",
    "        print(\"name from B\")\n",
    "class C(A,B):\n",
    "    def test(self):\n",
    "        #A.test(self)   # Prints test() from A\n",
    "        B.test(self)\n",
    "\n",
    "temp = C()\n",
    "temp.test()    "
   ]
  },
  {
   "cell_type": "code",
   "execution_count": 53,
   "metadata": {},
   "outputs": [
    {
     "name": "stdout",
     "output_type": "stream",
     "text": [
      "name from A\n",
      "name from B\n"
     ]
    }
   ],
   "source": [
    "class A:\n",
    "    def test(self):\n",
    "        print(\"name from A\")\n",
    "class B:\n",
    "    def test(self):\n",
    "        print(\"name from B\")\n",
    "class C(A,B):\n",
    "    pass\n",
    "\n",
    "class D(B,A):\n",
    "    pass\n",
    "\n",
    "temp = C()\n",
    "temp.test()\n",
    "\n",
    "temp1 = D()\n",
    "temp1.test()"
   ]
  },
  {
   "cell_type": "code",
   "execution_count": null,
   "metadata": {},
   "outputs": [],
   "source": []
  }
 ],
 "metadata": {
  "kernelspec": {
   "display_name": "Python 3",
   "language": "python",
   "name": "python3"
  },
  "language_info": {
   "codemirror_mode": {
    "name": "ipython",
    "version": 3
   },
   "file_extension": ".py",
   "mimetype": "text/x-python",
   "name": "python",
   "nbconvert_exporter": "python",
   "pygments_lexer": "ipython3",
   "version": "3.7.1"
  }
 },
 "nbformat": 4,
 "nbformat_minor": 2
}
