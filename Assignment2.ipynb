{
 "cells": [
  {
   "cell_type": "markdown",
   "metadata": {},
   "source": [
    "#### Task1:Q1.1 (implement your own myreduce function)"
   ]
  },
  {
   "cell_type": "code",
   "execution_count": 21,
   "metadata": {},
   "outputs": [],
   "source": [
    "def my_reduce(fn, list1):\n",
    "    if len(list1) == 0:\n",
    "        return None\n",
    "    result = list1[0]\n",
    "    for i in range(1, len(list1)):\n",
    "        result = fn(result, list1[i])\n",
    "    return result"
   ]
  },
  {
   "cell_type": "code",
   "execution_count": 25,
   "metadata": {},
   "outputs": [
    {
     "data": {
      "text/plain": [
       "25"
      ]
     },
     "execution_count": 25,
     "metadata": {},
     "output_type": "execute_result"
    }
   ],
   "source": [
    "my_reduce(lambda a, b: a if a < b else b, [47,35,25,85,95])"
   ]
  },
  {
   "cell_type": "code",
   "execution_count": 26,
   "metadata": {},
   "outputs": [
    {
     "data": {
      "text/plain": [
       "'AMERICAN SNIPER'"
      ]
     },
     "execution_count": 26,
     "metadata": {},
     "output_type": "execute_result"
    }
   ],
   "source": [
    "my_reduce(lambda x,y : x+y, ['A','M','ERI','CAN', ' ','S','NI','PER'])"
   ]
  },
  {
   "cell_type": "code",
   "execution_count": 27,
   "metadata": {},
   "outputs": [
    {
     "data": {
      "text/plain": [
       "84000"
      ]
     },
     "execution_count": 27,
     "metadata": {},
     "output_type": "execute_result"
    }
   ],
   "source": [
    "my_reduce(lambda x,y : x*y, [2,5,7,8,10,15])"
   ]
  },
  {
   "cell_type": "markdown",
   "metadata": {},
   "source": [
    "#### Task1:Q1.2 (implement your own myfilter function)"
   ]
  },
  {
   "cell_type": "code",
   "execution_count": 29,
   "metadata": {},
   "outputs": [],
   "source": [
    "def my_filter(func,seq):\n",
    "    res=[]\n",
    "    for var in seq :\n",
    "        if func(var):\n",
    "            res.append(var)\n",
    "    return res"
   ]
  },
  {
   "cell_type": "code",
   "execution_count": 30,
   "metadata": {},
   "outputs": [],
   "source": [
    "def even_check(num):\n",
    "    if num%2 ==0:\n",
    "        return True"
   ]
  },
  {
   "cell_type": "code",
   "execution_count": 31,
   "metadata": {},
   "outputs": [
    {
     "data": {
      "text/plain": [
       "[2, 12, 16, 24]"
      ]
     },
     "execution_count": 31,
     "metadata": {},
     "output_type": "execute_result"
    }
   ],
   "source": [
    "lst =[2,3,5,9,12,17,16,24,63]\n",
    "my_filter(even_check,lst)"
   ]
  },
  {
   "cell_type": "markdown",
   "metadata": {},
   "source": [
    "#### Task1:Q2(List comprehension to produce the lists)"
   ]
  },
  {
   "cell_type": "code",
   "execution_count": 11,
   "metadata": {},
   "outputs": [
    {
     "name": "stdout",
     "output_type": "stream",
     "text": [
      "['A', 'C', 'A', 'D', 'G', 'I', 'L', 'D']\n",
      "['x', 'xx', 'xxx', 'xxxx', 'y', 'yy', 'yyy', 'yyyy', 'z', 'zz', 'zzz', 'zzzz']\n",
      "['x', 'y', 'z', 'xx', 'yy', 'zz', 'xxx', 'yyy', 'zzz', 'xxxx', 'yyyy', 'zzzz']\n",
      "[[2], [3], [4], [3], [4], [5], [4], [5], [6]]\n",
      "[[2, 3, 4, 5], [3, 4, 5, 6], [4, 5, 6, 7], [5, 6, 7, 8]]\n",
      "[(1, 1), (2, 1), (3, 1), (1, 2), (2, 2), (3, 2), (1, 3), (2, 3), (3, 3)]\n"
     ]
    }
   ],
   "source": [
    "# List1\n",
    "List1 = [ x for x in 'ACADGILD']\n",
    "print(List1)\n",
    "\n",
    "# List2\n",
    "L2 = ['x','y','z']\n",
    "List2 = [i*n for i in L2 for n in range(1,5)]\n",
    "print(List2)\n",
    "\n",
    "# List 3\n",
    "L3 = ['x','y','z']\n",
    "List3 = [i*n for n in range(1,5) for i in L3]\n",
    "print(List3)\n",
    "\n",
    "# List 4\n",
    "L4 = [2,3,4]\n",
    "List4 = [[i+n] for i in L4 for n in range(3)]\n",
    "print(List4)\n",
    "\n",
    "#List 5\n",
    "L5 = [2,3,4,5]\n",
    "List5 = [[i+n for i in L5] for n in range(4)]\n",
    "print(List5)\n",
    "\n",
    "#List 6\n",
    "L6 = [1,2,3]\n",
    "List6 = [(y,x) for x in L6 for y in L6]\n",
    "print(List6)\n"
   ]
  },
  {
   "cell_type": "markdown",
   "metadata": {},
   "source": [
    "#### Task1:Q3(Function Longest word to find the longest word from a list of words)"
   ]
  },
  {
   "cell_type": "code",
   "execution_count": 68,
   "metadata": {},
   "outputs": [],
   "source": [
    "def longestWord(wordlst):\n",
    "    maxlen = len(wordlst[0])\n",
    "    longest = wordlst[0]\n",
    "    for i in wordlst :\n",
    "        if len(i) > maxlen:\n",
    "            longest = i\n",
    "    return longest"
   ]
  },
  {
   "cell_type": "code",
   "execution_count": 73,
   "metadata": {},
   "outputs": [
    {
     "data": {
      "text/plain": [
       "'Australia and New Zealand'"
      ]
     },
     "execution_count": 73,
     "metadata": {},
     "output_type": "execute_result"
    }
   ],
   "source": [
    "longestWord(['Masachusettes','Delhi','Mumbai', 'Kolkata', 'Aeroplane','Australia and New Zealand'])"
   ]
  },
  {
   "cell_type": "markdown",
   "metadata": {},
   "source": [
    "#### Task2:Q1.1(Use Parent class and subclass to find the area of tringle)"
   ]
  },
  {
   "cell_type": "code",
   "execution_count": 8,
   "metadata": {
    "scrolled": true
   },
   "outputs": [
    {
     "name": "stdout",
     "output_type": "stream",
     "text": [
      "Enter side a 4\n",
      "Enter side b 5\n",
      "Enter side c 6\n",
      "Area of the triangle is : 9.92\n"
     ]
    }
   ],
   "source": [
    "class triangle:\n",
    "        def __init__(self,a,b,c):\n",
    "            self.a = a\n",
    "            self.b = b\n",
    "            self.c = c\n",
    "a = int(input(\"Enter side a \"))\n",
    "b = int(input(\"Enter side b \"))\n",
    "c = int(input(\"Enter side c \"))\n",
    "\n",
    "class areatriangle(triangle):\n",
    "        def __init__(self,a,b,c):\n",
    "            super(areatriangle,self).__init__(a,b,c)\n",
    "        def area(self):\n",
    "            s = (self.a+self.b+self.c)/2\n",
    "            result =(s*(s-self.a)*(s-self.b)*(s-self.c))**0.5\n",
    "            print(\"Area of the triangle is : \" + \"{:0.2f}\".format(result))\n",
    "sides = triangle(a,b,c)      \n",
    "\n",
    "ar = areatriangle(a,b,c)\n",
    "ar.area() "
   ]
  },
  {
   "cell_type": "markdown",
   "metadata": {},
   "source": [
    "#### Task2:Q1.2(Function filter_long_words(), which accepts list of words and a number and returns words longer than the number)"
   ]
  },
  {
   "cell_type": "code",
   "execution_count": 51,
   "metadata": {},
   "outputs": [],
   "source": [
    "def filter_long_words(words,n):\n",
    "    target = []\n",
    "    for i in words:\n",
    "        if len(i) > n:\n",
    "            target.append(i)\n",
    "    return target\n",
    "    "
   ]
  },
  {
   "cell_type": "code",
   "execution_count": 54,
   "metadata": {},
   "outputs": [
    {
     "data": {
      "text/plain": [
       "['DELLLL', 'ASAAAA', 'MUMBAI', 'CORONA Virus']"
      ]
     },
     "execution_count": 54,
     "metadata": {},
     "output_type": "execute_result"
    }
   ],
   "source": [
    "filter_long_words(['DELLLL','ASAAAA', 'NH','CB','dis','Carl','MUMBAI','CORONA Virus'], 4)"
   ]
  },
  {
   "cell_type": "markdown",
   "metadata": {},
   "source": [
    "#### Task2: Q2.1 (Python function to map list of words into list of integers representing lengths of words)"
   ]
  },
  {
   "cell_type": "code",
   "execution_count": 47,
   "metadata": {},
   "outputs": [],
   "source": [
    "def lenwords(wordlist):\n",
    "    s = []\n",
    "    for i in wordlist:\n",
    "        s.append(len(i))\n",
    "    return s\n",
    "    "
   ]
  },
  {
   "cell_type": "code",
   "execution_count": 48,
   "metadata": {},
   "outputs": [
    {
     "data": {
      "text/plain": [
       "[5, 5, 7, 6, 7, 11]"
      ]
     },
     "execution_count": 48,
     "metadata": {},
     "output_type": "execute_result"
    }
   ],
   "source": [
    "lenwords(['Delhi', 'India', 'CHICAGO', 'AUSTIN', 'BEIJING', 'Pondicherry'])"
   ]
  },
  {
   "cell_type": "markdown",
   "metadata": {},
   "source": [
    "#### Task 2: Q2.2 (Python function takes a character and returns true for a vowel, else false)"
   ]
  },
  {
   "cell_type": "code",
   "execution_count": 2,
   "metadata": {},
   "outputs": [],
   "source": [
    " def isvowel(ch):\n",
    "   allvowels = 'aeiouAEIOU'\n",
    "   return ch in allvowels"
   ]
  },
  {
   "cell_type": "code",
   "execution_count": 3,
   "metadata": {},
   "outputs": [
    {
     "data": {
      "text/plain": [
       "False"
      ]
     },
     "execution_count": 3,
     "metadata": {},
     "output_type": "execute_result"
    }
   ],
   "source": [
    "isvowel('w')"
   ]
  },
  {
   "cell_type": "code",
   "execution_count": 4,
   "metadata": {},
   "outputs": [
    {
     "data": {
      "text/plain": [
       "True"
      ]
     },
     "execution_count": 4,
     "metadata": {},
     "output_type": "execute_result"
    }
   ],
   "source": [
    "isvowel('U')"
   ]
  },
  {
   "cell_type": "code",
   "execution_count": null,
   "metadata": {},
   "outputs": [],
   "source": []
  }
 ],
 "metadata": {
  "kernelspec": {
   "display_name": "Python 3",
   "language": "python",
   "name": "python3"
  },
  "language_info": {
   "codemirror_mode": {
    "name": "ipython",
    "version": 3
   },
   "file_extension": ".py",
   "mimetype": "text/x-python",
   "name": "python",
   "nbconvert_exporter": "python",
   "pygments_lexer": "ipython3",
   "version": "3.7.1"
  }
 },
 "nbformat": 4,
 "nbformat_minor": 2
}
